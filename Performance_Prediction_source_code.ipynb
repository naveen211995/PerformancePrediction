{
  "nbformat": 4,
  "nbformat_minor": 0,
  "metadata": {
    "colab": {
      "name": "Performance_Prediction_source_code.ipynb",
      "provenance": [],
      "collapsed_sections": []
    },
    "kernelspec": {
      "name": "python3",
      "display_name": "Python 3"
    },
    "accelerator": "GPU"
  },
  "cells": [
    {
      "cell_type": "code",
      "metadata": {
        "id": "eJwbm-gI_LZp",
        "colab_type": "code",
        "colab": {}
      },
      "source": [
        "#Importing required packages...\n",
        "import numpy as np\n",
        "import pandas as pd\n",
        "import warnings\n",
        "warnings.filterwarnings('ignore')"
      ],
      "execution_count": 0,
      "outputs": []
    },
    {
      "cell_type": "code",
      "metadata": {
        "id": "PNH0zWTg_UTI",
        "colab_type": "code",
        "colab": {}
      },
      "source": [
        "train_file= pd.read_csv('/content/train.csv')\n",
        "test_file= pd.read_csv('/content/test.csv')"
      ],
      "execution_count": 0,
      "outputs": []
    },
    {
      "cell_type": "code",
      "metadata": {
        "id": "o5t7l0S-DsPw",
        "colab_type": "code",
        "colab": {}
      },
      "source": [
        "train_file['data']='train'\n",
        "test_file['data']='test'\n",
        "test_file['is_pass']=np.nan"
      ],
      "execution_count": 0,
      "outputs": []
    },
    {
      "cell_type": "code",
      "metadata": {
        "id": "O_f75NqCDsRc",
        "colab_type": "code",
        "outputId": "d1c70740-2709-4c05-a974-e2c672e9a1a6",
        "colab": {
          "base_uri": "https://localhost:8080/",
          "height": 35
        }
      },
      "source": [
        "train_file.shape, test_file.shape"
      ],
      "execution_count": 0,
      "outputs": [
        {
          "output_type": "execute_result",
          "data": {
            "text/plain": [
              "((73147, 17), (31349, 17))"
            ]
          },
          "metadata": {
            "tags": []
          },
          "execution_count": 4
        }
      ]
    },
    {
      "cell_type": "code",
      "metadata": {
        "id": "taRta4iYEOtG",
        "colab_type": "code",
        "colab": {}
      },
      "source": [
        "full= pd.concat([train_file, test_file], axis=0)"
      ],
      "execution_count": 0,
      "outputs": []
    },
    {
      "cell_type": "code",
      "metadata": {
        "id": "fKVJ0jPJEhGk",
        "colab_type": "code",
        "outputId": "dd3636df-995e-40a8-8c6e-8a8092dadbe4",
        "colab": {
          "base_uri": "https://localhost:8080/",
          "height": 35
        }
      },
      "source": [
        "full.shape"
      ],
      "execution_count": 0,
      "outputs": [
        {
          "output_type": "execute_result",
          "data": {
            "text/plain": [
              "(104496, 17)"
            ]
          },
          "metadata": {
            "tags": []
          },
          "execution_count": 6
        }
      ]
    },
    {
      "cell_type": "code",
      "metadata": {
        "id": "v6AwYNBs_qja",
        "colab_type": "code",
        "outputId": "7f7bff82-a6f3-4962-d8b6-197f251556d6",
        "colab": {
          "base_uri": "https://localhost:8080/",
          "height": 261
        }
      },
      "source": [
        "full.head()"
      ],
      "execution_count": 0,
      "outputs": [
        {
          "output_type": "execute_result",
          "data": {
            "text/html": [
              "<div>\n",
              "<style scoped>\n",
              "    .dataframe tbody tr th:only-of-type {\n",
              "        vertical-align: middle;\n",
              "    }\n",
              "\n",
              "    .dataframe tbody tr th {\n",
              "        vertical-align: top;\n",
              "    }\n",
              "\n",
              "    .dataframe thead th {\n",
              "        text-align: right;\n",
              "    }\n",
              "</style>\n",
              "<table border=\"1\" class=\"dataframe\">\n",
              "  <thead>\n",
              "    <tr style=\"text-align: right;\">\n",
              "      <th></th>\n",
              "      <th>id</th>\n",
              "      <th>program_id</th>\n",
              "      <th>program_type</th>\n",
              "      <th>program_duration</th>\n",
              "      <th>test_id</th>\n",
              "      <th>test_type</th>\n",
              "      <th>difficulty_level</th>\n",
              "      <th>trainee_id</th>\n",
              "      <th>gender</th>\n",
              "      <th>education</th>\n",
              "      <th>city_tier</th>\n",
              "      <th>age</th>\n",
              "      <th>total_programs_enrolled</th>\n",
              "      <th>is_handicapped</th>\n",
              "      <th>trainee_engagement_rating</th>\n",
              "      <th>is_pass</th>\n",
              "      <th>data</th>\n",
              "    </tr>\n",
              "  </thead>\n",
              "  <tbody>\n",
              "    <tr>\n",
              "      <th>0</th>\n",
              "      <td>9389_150</td>\n",
              "      <td>Y_1</td>\n",
              "      <td>Y</td>\n",
              "      <td>136</td>\n",
              "      <td>150</td>\n",
              "      <td>offline</td>\n",
              "      <td>intermediate</td>\n",
              "      <td>9389</td>\n",
              "      <td>M</td>\n",
              "      <td>Matriculation</td>\n",
              "      <td>3</td>\n",
              "      <td>24.0</td>\n",
              "      <td>5</td>\n",
              "      <td>N</td>\n",
              "      <td>1.0</td>\n",
              "      <td>0.0</td>\n",
              "      <td>train</td>\n",
              "    </tr>\n",
              "    <tr>\n",
              "      <th>1</th>\n",
              "      <td>16523_44</td>\n",
              "      <td>T_1</td>\n",
              "      <td>T</td>\n",
              "      <td>131</td>\n",
              "      <td>44</td>\n",
              "      <td>offline</td>\n",
              "      <td>easy</td>\n",
              "      <td>16523</td>\n",
              "      <td>F</td>\n",
              "      <td>High School Diploma</td>\n",
              "      <td>4</td>\n",
              "      <td>26.0</td>\n",
              "      <td>2</td>\n",
              "      <td>N</td>\n",
              "      <td>3.0</td>\n",
              "      <td>1.0</td>\n",
              "      <td>train</td>\n",
              "    </tr>\n",
              "    <tr>\n",
              "      <th>2</th>\n",
              "      <td>13987_178</td>\n",
              "      <td>Z_2</td>\n",
              "      <td>Z</td>\n",
              "      <td>120</td>\n",
              "      <td>178</td>\n",
              "      <td>online</td>\n",
              "      <td>easy</td>\n",
              "      <td>13987</td>\n",
              "      <td>M</td>\n",
              "      <td>Matriculation</td>\n",
              "      <td>1</td>\n",
              "      <td>40.0</td>\n",
              "      <td>1</td>\n",
              "      <td>N</td>\n",
              "      <td>2.0</td>\n",
              "      <td>1.0</td>\n",
              "      <td>train</td>\n",
              "    </tr>\n",
              "    <tr>\n",
              "      <th>3</th>\n",
              "      <td>13158_32</td>\n",
              "      <td>T_2</td>\n",
              "      <td>T</td>\n",
              "      <td>117</td>\n",
              "      <td>32</td>\n",
              "      <td>offline</td>\n",
              "      <td>easy</td>\n",
              "      <td>13158</td>\n",
              "      <td>F</td>\n",
              "      <td>Matriculation</td>\n",
              "      <td>3</td>\n",
              "      <td>NaN</td>\n",
              "      <td>4</td>\n",
              "      <td>N</td>\n",
              "      <td>1.0</td>\n",
              "      <td>1.0</td>\n",
              "      <td>train</td>\n",
              "    </tr>\n",
              "    <tr>\n",
              "      <th>4</th>\n",
              "      <td>10591_84</td>\n",
              "      <td>V_3</td>\n",
              "      <td>V</td>\n",
              "      <td>131</td>\n",
              "      <td>84</td>\n",
              "      <td>offline</td>\n",
              "      <td>intermediate</td>\n",
              "      <td>10591</td>\n",
              "      <td>F</td>\n",
              "      <td>High School Diploma</td>\n",
              "      <td>1</td>\n",
              "      <td>42.0</td>\n",
              "      <td>2</td>\n",
              "      <td>N</td>\n",
              "      <td>4.0</td>\n",
              "      <td>1.0</td>\n",
              "      <td>train</td>\n",
              "    </tr>\n",
              "  </tbody>\n",
              "</table>\n",
              "</div>"
            ],
            "text/plain": [
              "          id program_id program_type  ...  trainee_engagement_rating  is_pass   data\n",
              "0   9389_150        Y_1            Y  ...                        1.0      0.0  train\n",
              "1   16523_44        T_1            T  ...                        3.0      1.0  train\n",
              "2  13987_178        Z_2            Z  ...                        2.0      1.0  train\n",
              "3   13158_32        T_2            T  ...                        1.0      1.0  train\n",
              "4   10591_84        V_3            V  ...                        4.0      1.0  train\n",
              "\n",
              "[5 rows x 17 columns]"
            ]
          },
          "metadata": {
            "tags": []
          },
          "execution_count": 7
        }
      ]
    },
    {
      "cell_type": "markdown",
      "metadata": {
        "id": "6BAjKksAGLNP",
        "colab_type": "text"
      },
      "source": [
        "## **Preprocessing steps**"
      ]
    },
    {
      "cell_type": "code",
      "metadata": {
        "id": "HRTYCStE_tG4",
        "colab_type": "code",
        "outputId": "cc1f282d-1243-41e6-8130-a14eb0f237fc",
        "colab": {
          "base_uri": "https://localhost:8080/",
          "height": 344
        }
      },
      "source": [
        "full.dtypes"
      ],
      "execution_count": 0,
      "outputs": [
        {
          "output_type": "execute_result",
          "data": {
            "text/plain": [
              "id                            object\n",
              "program_id                    object\n",
              "program_type                  object\n",
              "program_duration               int64\n",
              "test_id                        int64\n",
              "test_type                     object\n",
              "difficulty_level              object\n",
              "trainee_id                     int64\n",
              "gender                        object\n",
              "education                     object\n",
              "city_tier                      int64\n",
              "age                          float64\n",
              "total_programs_enrolled        int64\n",
              "is_handicapped                object\n",
              "trainee_engagement_rating    float64\n",
              "is_pass                      float64\n",
              "data                          object\n",
              "dtype: object"
            ]
          },
          "metadata": {
            "tags": []
          },
          "execution_count": 8
        }
      ]
    },
    {
      "cell_type": "code",
      "metadata": {
        "id": "uhK_Mk5TCj9G",
        "colab_type": "code",
        "outputId": "6ca6454f-1bea-4e40-c3fa-219e03e9418a",
        "colab": {
          "base_uri": "https://localhost:8080/",
          "height": 344
        }
      },
      "source": [
        "#Checking the missing values in the dataset...\n",
        "full.isnull().sum()"
      ],
      "execution_count": 0,
      "outputs": [
        {
          "output_type": "execute_result",
          "data": {
            "text/plain": [
              "id                               0\n",
              "program_id                       0\n",
              "program_type                     0\n",
              "program_duration                 0\n",
              "test_id                          0\n",
              "test_type                        0\n",
              "difficulty_level                 0\n",
              "trainee_id                       0\n",
              "gender                           0\n",
              "education                        0\n",
              "city_tier                        0\n",
              "age                          39520\n",
              "total_programs_enrolled          0\n",
              "is_handicapped                   0\n",
              "trainee_engagement_rating      108\n",
              "is_pass                      31349\n",
              "data                             0\n",
              "dtype: int64"
            ]
          },
          "metadata": {
            "tags": []
          },
          "execution_count": 9
        }
      ]
    },
    {
      "cell_type": "markdown",
      "metadata": {
        "id": "KYMQ82zkE4GG",
        "colab_type": "text"
      },
      "source": [
        "**Here we see that 'age' and 'trainee_engagement_rating' columns has missing values. Lets fill out the missing values...**"
      ]
    },
    {
      "cell_type": "code",
      "metadata": {
        "id": "ghdYSfWUDKbb",
        "colab_type": "code",
        "outputId": "5c589dcc-5730-4518-b990-e29edfdbb6dc",
        "colab": {
          "base_uri": "https://localhost:8080/",
          "height": 35
        }
      },
      "source": [
        "full['age'].mean(), full['trainee_engagement_rating'].median()"
      ],
      "execution_count": 0,
      "outputs": [
        {
          "output_type": "execute_result",
          "data": {
            "text/plain": [
              "(36.47803804481655, 2.0)"
            ]
          },
          "metadata": {
            "tags": []
          },
          "execution_count": 10
        }
      ]
    },
    {
      "cell_type": "code",
      "metadata": {
        "id": "yTbqRkk9FC5I",
        "colab_type": "code",
        "colab": {}
      },
      "source": [
        "full['age'].fillna(36, inplace=True)\n",
        "full['trainee_engagement_rating'].fillna(2.0, inplace=True)"
      ],
      "execution_count": 0,
      "outputs": []
    },
    {
      "cell_type": "code",
      "metadata": {
        "id": "VIKMbLtFHV07",
        "colab_type": "code",
        "outputId": "bd2f1bbb-2333-4732-c5c5-0ddb3a691db1",
        "colab": {
          "base_uri": "https://localhost:8080/",
          "height": 344
        }
      },
      "source": [
        "full.isnull().sum()"
      ],
      "execution_count": 0,
      "outputs": [
        {
          "output_type": "execute_result",
          "data": {
            "text/plain": [
              "id                               0\n",
              "program_id                       0\n",
              "program_type                     0\n",
              "program_duration                 0\n",
              "test_id                          0\n",
              "test_type                        0\n",
              "difficulty_level                 0\n",
              "trainee_id                       0\n",
              "gender                           0\n",
              "education                        0\n",
              "city_tier                        0\n",
              "age                              0\n",
              "total_programs_enrolled          0\n",
              "is_handicapped                   0\n",
              "trainee_engagement_rating        0\n",
              "is_pass                      31349\n",
              "data                             0\n",
              "dtype: int64"
            ]
          },
          "metadata": {
            "tags": []
          },
          "execution_count": 12
        }
      ]
    },
    {
      "cell_type": "code",
      "metadata": {
        "id": "vFzyvrzVHZMr",
        "colab_type": "code",
        "colab": {}
      },
      "source": [
        "#Converting the float values to integers...\n",
        "full['age']= full['age'].astype(int)\n",
        "full['trainee_engagement_rating']= full['trainee_engagement_rating'].astype(int)"
      ],
      "execution_count": 0,
      "outputs": []
    },
    {
      "cell_type": "code",
      "metadata": {
        "id": "8_jtVafzIGfe",
        "colab_type": "code",
        "outputId": "2ea8c2dd-0927-4397-dde3-2a69be18d2c0",
        "colab": {
          "base_uri": "https://localhost:8080/",
          "height": 344
        }
      },
      "source": [
        "full.dtypes"
      ],
      "execution_count": 0,
      "outputs": [
        {
          "output_type": "execute_result",
          "data": {
            "text/plain": [
              "id                            object\n",
              "program_id                    object\n",
              "program_type                  object\n",
              "program_duration               int64\n",
              "test_id                        int64\n",
              "test_type                     object\n",
              "difficulty_level              object\n",
              "trainee_id                     int64\n",
              "gender                        object\n",
              "education                     object\n",
              "city_tier                      int64\n",
              "age                            int64\n",
              "total_programs_enrolled        int64\n",
              "is_handicapped                object\n",
              "trainee_engagement_rating      int64\n",
              "is_pass                      float64\n",
              "data                          object\n",
              "dtype: object"
            ]
          },
          "metadata": {
            "tags": []
          },
          "execution_count": 14
        }
      ]
    },
    {
      "cell_type": "code",
      "metadata": {
        "id": "f3G8a3AnIJQS",
        "colab_type": "code",
        "outputId": "bac23b22-6d4d-4185-8b5a-7da62eec0f03",
        "colab": {
          "base_uri": "https://localhost:8080/",
          "height": 261
        }
      },
      "source": [
        "full.head()"
      ],
      "execution_count": 0,
      "outputs": [
        {
          "output_type": "execute_result",
          "data": {
            "text/html": [
              "<div>\n",
              "<style scoped>\n",
              "    .dataframe tbody tr th:only-of-type {\n",
              "        vertical-align: middle;\n",
              "    }\n",
              "\n",
              "    .dataframe tbody tr th {\n",
              "        vertical-align: top;\n",
              "    }\n",
              "\n",
              "    .dataframe thead th {\n",
              "        text-align: right;\n",
              "    }\n",
              "</style>\n",
              "<table border=\"1\" class=\"dataframe\">\n",
              "  <thead>\n",
              "    <tr style=\"text-align: right;\">\n",
              "      <th></th>\n",
              "      <th>id</th>\n",
              "      <th>program_id</th>\n",
              "      <th>program_type</th>\n",
              "      <th>program_duration</th>\n",
              "      <th>test_id</th>\n",
              "      <th>test_type</th>\n",
              "      <th>difficulty_level</th>\n",
              "      <th>trainee_id</th>\n",
              "      <th>gender</th>\n",
              "      <th>education</th>\n",
              "      <th>city_tier</th>\n",
              "      <th>age</th>\n",
              "      <th>total_programs_enrolled</th>\n",
              "      <th>is_handicapped</th>\n",
              "      <th>trainee_engagement_rating</th>\n",
              "      <th>is_pass</th>\n",
              "      <th>data</th>\n",
              "    </tr>\n",
              "  </thead>\n",
              "  <tbody>\n",
              "    <tr>\n",
              "      <th>0</th>\n",
              "      <td>9389_150</td>\n",
              "      <td>Y_1</td>\n",
              "      <td>Y</td>\n",
              "      <td>136</td>\n",
              "      <td>150</td>\n",
              "      <td>offline</td>\n",
              "      <td>intermediate</td>\n",
              "      <td>9389</td>\n",
              "      <td>M</td>\n",
              "      <td>Matriculation</td>\n",
              "      <td>3</td>\n",
              "      <td>24</td>\n",
              "      <td>5</td>\n",
              "      <td>N</td>\n",
              "      <td>1</td>\n",
              "      <td>0.0</td>\n",
              "      <td>train</td>\n",
              "    </tr>\n",
              "    <tr>\n",
              "      <th>1</th>\n",
              "      <td>16523_44</td>\n",
              "      <td>T_1</td>\n",
              "      <td>T</td>\n",
              "      <td>131</td>\n",
              "      <td>44</td>\n",
              "      <td>offline</td>\n",
              "      <td>easy</td>\n",
              "      <td>16523</td>\n",
              "      <td>F</td>\n",
              "      <td>High School Diploma</td>\n",
              "      <td>4</td>\n",
              "      <td>26</td>\n",
              "      <td>2</td>\n",
              "      <td>N</td>\n",
              "      <td>3</td>\n",
              "      <td>1.0</td>\n",
              "      <td>train</td>\n",
              "    </tr>\n",
              "    <tr>\n",
              "      <th>2</th>\n",
              "      <td>13987_178</td>\n",
              "      <td>Z_2</td>\n",
              "      <td>Z</td>\n",
              "      <td>120</td>\n",
              "      <td>178</td>\n",
              "      <td>online</td>\n",
              "      <td>easy</td>\n",
              "      <td>13987</td>\n",
              "      <td>M</td>\n",
              "      <td>Matriculation</td>\n",
              "      <td>1</td>\n",
              "      <td>40</td>\n",
              "      <td>1</td>\n",
              "      <td>N</td>\n",
              "      <td>2</td>\n",
              "      <td>1.0</td>\n",
              "      <td>train</td>\n",
              "    </tr>\n",
              "    <tr>\n",
              "      <th>3</th>\n",
              "      <td>13158_32</td>\n",
              "      <td>T_2</td>\n",
              "      <td>T</td>\n",
              "      <td>117</td>\n",
              "      <td>32</td>\n",
              "      <td>offline</td>\n",
              "      <td>easy</td>\n",
              "      <td>13158</td>\n",
              "      <td>F</td>\n",
              "      <td>Matriculation</td>\n",
              "      <td>3</td>\n",
              "      <td>36</td>\n",
              "      <td>4</td>\n",
              "      <td>N</td>\n",
              "      <td>1</td>\n",
              "      <td>1.0</td>\n",
              "      <td>train</td>\n",
              "    </tr>\n",
              "    <tr>\n",
              "      <th>4</th>\n",
              "      <td>10591_84</td>\n",
              "      <td>V_3</td>\n",
              "      <td>V</td>\n",
              "      <td>131</td>\n",
              "      <td>84</td>\n",
              "      <td>offline</td>\n",
              "      <td>intermediate</td>\n",
              "      <td>10591</td>\n",
              "      <td>F</td>\n",
              "      <td>High School Diploma</td>\n",
              "      <td>1</td>\n",
              "      <td>42</td>\n",
              "      <td>2</td>\n",
              "      <td>N</td>\n",
              "      <td>4</td>\n",
              "      <td>1.0</td>\n",
              "      <td>train</td>\n",
              "    </tr>\n",
              "  </tbody>\n",
              "</table>\n",
              "</div>"
            ],
            "text/plain": [
              "          id program_id program_type  ...  trainee_engagement_rating  is_pass   data\n",
              "0   9389_150        Y_1            Y  ...                          1      0.0  train\n",
              "1   16523_44        T_1            T  ...                          3      1.0  train\n",
              "2  13987_178        Z_2            Z  ...                          2      1.0  train\n",
              "3   13158_32        T_2            T  ...                          1      1.0  train\n",
              "4   10591_84        V_3            V  ...                          4      1.0  train\n",
              "\n",
              "[5 rows x 17 columns]"
            ]
          },
          "metadata": {
            "tags": []
          },
          "execution_count": 15
        }
      ]
    },
    {
      "cell_type": "code",
      "metadata": {
        "id": "CaSQnbnPJEe7",
        "colab_type": "code",
        "outputId": "cdd1bd31-4ad7-46e2-db47-e3cb21f6b1c4",
        "colab": {
          "base_uri": "https://localhost:8080/",
          "height": 35
        }
      },
      "source": [
        "full.shape"
      ],
      "execution_count": 0,
      "outputs": [
        {
          "output_type": "execute_result",
          "data": {
            "text/plain": [
              "(104496, 17)"
            ]
          },
          "metadata": {
            "tags": []
          },
          "execution_count": 16
        }
      ]
    },
    {
      "cell_type": "markdown",
      "metadata": {
        "id": "WeF8A9Q4ITti",
        "colab_type": "text"
      },
      "source": [
        "**Lets remove the features that doesn't make any sense in our model prediction...**"
      ]
    },
    {
      "cell_type": "code",
      "metadata": {
        "id": "Eevye2fuIOYT",
        "colab_type": "code",
        "colab": {}
      },
      "source": [
        "#Here we see that 'id', 'program_id', 'test_id', 'trainee_id' columns will not make any sense in predicting our model.. Hence we drop these columns!\n",
        "full= full.drop(['id', 'program_id', 'test_id', 'trainee_id'], axis=1)"
      ],
      "execution_count": 0,
      "outputs": []
    },
    {
      "cell_type": "code",
      "metadata": {
        "id": "2uzwAaeXIMyC",
        "colab_type": "code",
        "outputId": "c5a6ce87-cace-4f84-c5bb-fb2f1db36582",
        "colab": {
          "base_uri": "https://localhost:8080/",
          "height": 35
        }
      },
      "source": [
        "full.shape"
      ],
      "execution_count": 0,
      "outputs": [
        {
          "output_type": "execute_result",
          "data": {
            "text/plain": [
              "(104496, 13)"
            ]
          },
          "metadata": {
            "tags": []
          },
          "execution_count": 18
        }
      ]
    },
    {
      "cell_type": "markdown",
      "metadata": {
        "id": "BuJvPuVrJThI",
        "colab_type": "text"
      },
      "source": [
        "**Creating dummies for categorical variables..**"
      ]
    },
    {
      "cell_type": "code",
      "metadata": {
        "id": "Ynckl8ZQJGrx",
        "colab_type": "code",
        "colab": {}
      },
      "source": [
        "cat_cols= ['program_type', 'test_type', 'difficulty_level', 'gender', 'education', 'is_handicapped']"
      ],
      "execution_count": 0,
      "outputs": []
    },
    {
      "cell_type": "code",
      "metadata": {
        "id": "KUl3d8nKJij0",
        "colab_type": "code",
        "colab": {}
      },
      "source": [
        "for col in cat_cols:\n",
        "  k= full[col].value_counts(normalize=True)\n",
        "  cats= k.index[k>0.007][:-1]\n",
        "  for cat in cats:\n",
        "    name= col+'_'+cat\n",
        "    full[name]= (full[col]==cat).astype(int)\n",
        "  del full[col]"
      ],
      "execution_count": 0,
      "outputs": []
    },
    {
      "cell_type": "code",
      "metadata": {
        "id": "v-Mimd-hMugW",
        "colab_type": "code",
        "outputId": "7bf9c7ec-7d88-4d75-df5e-23608746504c",
        "colab": {
          "base_uri": "https://localhost:8080/",
          "height": 243
        }
      },
      "source": [
        "full.head()"
      ],
      "execution_count": 0,
      "outputs": [
        {
          "output_type": "execute_result",
          "data": {
            "text/html": [
              "<div>\n",
              "<style scoped>\n",
              "    .dataframe tbody tr th:only-of-type {\n",
              "        vertical-align: middle;\n",
              "    }\n",
              "\n",
              "    .dataframe tbody tr th {\n",
              "        vertical-align: top;\n",
              "    }\n",
              "\n",
              "    .dataframe thead th {\n",
              "        text-align: right;\n",
              "    }\n",
              "</style>\n",
              "<table border=\"1\" class=\"dataframe\">\n",
              "  <thead>\n",
              "    <tr style=\"text-align: right;\">\n",
              "      <th></th>\n",
              "      <th>program_duration</th>\n",
              "      <th>city_tier</th>\n",
              "      <th>age</th>\n",
              "      <th>total_programs_enrolled</th>\n",
              "      <th>trainee_engagement_rating</th>\n",
              "      <th>is_pass</th>\n",
              "      <th>data</th>\n",
              "      <th>program_type_Y</th>\n",
              "      <th>program_type_T</th>\n",
              "      <th>program_type_V</th>\n",
              "      <th>program_type_U</th>\n",
              "      <th>program_type_Z</th>\n",
              "      <th>program_type_X</th>\n",
              "      <th>test_type_offline</th>\n",
              "      <th>difficulty_level_easy</th>\n",
              "      <th>difficulty_level_intermediate</th>\n",
              "      <th>difficulty_level_hard</th>\n",
              "      <th>gender_M</th>\n",
              "      <th>education_High School Diploma</th>\n",
              "      <th>education_Matriculation</th>\n",
              "      <th>education_Bachelors</th>\n",
              "      <th>education_Masters</th>\n",
              "      <th>is_handicapped_N</th>\n",
              "    </tr>\n",
              "  </thead>\n",
              "  <tbody>\n",
              "    <tr>\n",
              "      <th>0</th>\n",
              "      <td>136</td>\n",
              "      <td>3</td>\n",
              "      <td>24</td>\n",
              "      <td>5</td>\n",
              "      <td>1</td>\n",
              "      <td>0.0</td>\n",
              "      <td>train</td>\n",
              "      <td>1</td>\n",
              "      <td>0</td>\n",
              "      <td>0</td>\n",
              "      <td>0</td>\n",
              "      <td>0</td>\n",
              "      <td>0</td>\n",
              "      <td>1</td>\n",
              "      <td>0</td>\n",
              "      <td>1</td>\n",
              "      <td>0</td>\n",
              "      <td>1</td>\n",
              "      <td>0</td>\n",
              "      <td>1</td>\n",
              "      <td>0</td>\n",
              "      <td>0</td>\n",
              "      <td>1</td>\n",
              "    </tr>\n",
              "    <tr>\n",
              "      <th>1</th>\n",
              "      <td>131</td>\n",
              "      <td>4</td>\n",
              "      <td>26</td>\n",
              "      <td>2</td>\n",
              "      <td>3</td>\n",
              "      <td>1.0</td>\n",
              "      <td>train</td>\n",
              "      <td>0</td>\n",
              "      <td>1</td>\n",
              "      <td>0</td>\n",
              "      <td>0</td>\n",
              "      <td>0</td>\n",
              "      <td>0</td>\n",
              "      <td>1</td>\n",
              "      <td>1</td>\n",
              "      <td>0</td>\n",
              "      <td>0</td>\n",
              "      <td>0</td>\n",
              "      <td>1</td>\n",
              "      <td>0</td>\n",
              "      <td>0</td>\n",
              "      <td>0</td>\n",
              "      <td>1</td>\n",
              "    </tr>\n",
              "    <tr>\n",
              "      <th>2</th>\n",
              "      <td>120</td>\n",
              "      <td>1</td>\n",
              "      <td>40</td>\n",
              "      <td>1</td>\n",
              "      <td>2</td>\n",
              "      <td>1.0</td>\n",
              "      <td>train</td>\n",
              "      <td>0</td>\n",
              "      <td>0</td>\n",
              "      <td>0</td>\n",
              "      <td>0</td>\n",
              "      <td>1</td>\n",
              "      <td>0</td>\n",
              "      <td>0</td>\n",
              "      <td>1</td>\n",
              "      <td>0</td>\n",
              "      <td>0</td>\n",
              "      <td>1</td>\n",
              "      <td>0</td>\n",
              "      <td>1</td>\n",
              "      <td>0</td>\n",
              "      <td>0</td>\n",
              "      <td>1</td>\n",
              "    </tr>\n",
              "    <tr>\n",
              "      <th>3</th>\n",
              "      <td>117</td>\n",
              "      <td>3</td>\n",
              "      <td>36</td>\n",
              "      <td>4</td>\n",
              "      <td>1</td>\n",
              "      <td>1.0</td>\n",
              "      <td>train</td>\n",
              "      <td>0</td>\n",
              "      <td>1</td>\n",
              "      <td>0</td>\n",
              "      <td>0</td>\n",
              "      <td>0</td>\n",
              "      <td>0</td>\n",
              "      <td>1</td>\n",
              "      <td>1</td>\n",
              "      <td>0</td>\n",
              "      <td>0</td>\n",
              "      <td>0</td>\n",
              "      <td>0</td>\n",
              "      <td>1</td>\n",
              "      <td>0</td>\n",
              "      <td>0</td>\n",
              "      <td>1</td>\n",
              "    </tr>\n",
              "    <tr>\n",
              "      <th>4</th>\n",
              "      <td>131</td>\n",
              "      <td>1</td>\n",
              "      <td>42</td>\n",
              "      <td>2</td>\n",
              "      <td>4</td>\n",
              "      <td>1.0</td>\n",
              "      <td>train</td>\n",
              "      <td>0</td>\n",
              "      <td>0</td>\n",
              "      <td>1</td>\n",
              "      <td>0</td>\n",
              "      <td>0</td>\n",
              "      <td>0</td>\n",
              "      <td>1</td>\n",
              "      <td>0</td>\n",
              "      <td>1</td>\n",
              "      <td>0</td>\n",
              "      <td>0</td>\n",
              "      <td>1</td>\n",
              "      <td>0</td>\n",
              "      <td>0</td>\n",
              "      <td>0</td>\n",
              "      <td>1</td>\n",
              "    </tr>\n",
              "  </tbody>\n",
              "</table>\n",
              "</div>"
            ],
            "text/plain": [
              "   program_duration  city_tier  ...  education_Masters  is_handicapped_N\n",
              "0               136          3  ...                  0                 1\n",
              "1               131          4  ...                  0                 1\n",
              "2               120          1  ...                  0                 1\n",
              "3               117          3  ...                  0                 1\n",
              "4               131          1  ...                  0                 1\n",
              "\n",
              "[5 rows x 23 columns]"
            ]
          },
          "metadata": {
            "tags": []
          },
          "execution_count": 21
        }
      ]
    },
    {
      "cell_type": "code",
      "metadata": {
        "id": "8RbqyeAcMxU3",
        "colab_type": "code",
        "outputId": "66cfec00-bb43-4a7c-adb2-ab92a7a24a4b",
        "colab": {
          "base_uri": "https://localhost:8080/",
          "height": 35
        }
      },
      "source": [
        "full.shape"
      ],
      "execution_count": 0,
      "outputs": [
        {
          "output_type": "execute_result",
          "data": {
            "text/plain": [
              "(104496, 23)"
            ]
          },
          "metadata": {
            "tags": []
          },
          "execution_count": 22
        }
      ]
    },
    {
      "cell_type": "markdown",
      "metadata": {
        "id": "Z6nyV0pnNBob",
        "colab_type": "text"
      },
      "source": [
        "**After done with Preprocessing steps, lets split the data again back to TRAIN and TEST file**"
      ]
    },
    {
      "cell_type": "code",
      "metadata": {
        "id": "wEChWf9gM5uK",
        "colab_type": "code",
        "colab": {}
      },
      "source": [
        "train_file= full[full['data']=='train']\n",
        "del train_file['data']\n",
        "test_file= full[full['data']=='test']\n",
        "test_file.drop(['is_pass', 'data'], axis=1, inplace=True)"
      ],
      "execution_count": 0,
      "outputs": []
    },
    {
      "cell_type": "code",
      "metadata": {
        "id": "SCgagcUjVQhN",
        "colab_type": "code",
        "colab": {}
      },
      "source": [
        "#Converting target variable 'is_pass' to INT value...\n",
        "train_file['is_pass']= train_file['is_pass'].astype(int)"
      ],
      "execution_count": 0,
      "outputs": []
    },
    {
      "cell_type": "code",
      "metadata": {
        "id": "l2pYHtfPOGh9",
        "colab_type": "code",
        "outputId": "040d16bb-3ee8-4ab9-8ab3-5cbd7dc22fe0",
        "colab": {
          "base_uri": "https://localhost:8080/",
          "height": 35
        }
      },
      "source": [
        "train_file.shape, test_file.shape"
      ],
      "execution_count": 0,
      "outputs": [
        {
          "output_type": "execute_result",
          "data": {
            "text/plain": [
              "((73147, 22), (31349, 21))"
            ]
          },
          "metadata": {
            "tags": []
          },
          "execution_count": 25
        }
      ]
    },
    {
      "cell_type": "markdown",
      "metadata": {
        "id": "g3RwuJQOUETn",
        "colab_type": "text"
      },
      "source": [
        "## **Feature Selection**"
      ]
    },
    {
      "cell_type": "code",
      "metadata": {
        "id": "PLXQPa5WOn-s",
        "colab_type": "code",
        "colab": {}
      },
      "source": [
        "#Importing required packages...\n",
        "from sklearn.linear_model import LogisticRegression\n",
        "from sklearn.model_selection import train_test_split\n",
        "from sklearn.metrics import accuracy_score, roc_auc_score, f1_score, classification_report\n",
        "from sklearn.ensemble import ExtraTreesClassifier\n",
        "from sklearn.feature_selection import RFE\n",
        "import matplotlib.pyplot as plt"
      ],
      "execution_count": 0,
      "outputs": []
    },
    {
      "cell_type": "code",
      "metadata": {
        "id": "Es0LvgJ0VH9e",
        "colab_type": "code",
        "colab": {}
      },
      "source": [
        "X= train_file.drop(['is_pass'], axis=1)\n",
        "Y= train_file['is_pass']"
      ],
      "execution_count": 0,
      "outputs": []
    },
    {
      "cell_type": "code",
      "metadata": {
        "id": "mSEla1fqV2gq",
        "colab_type": "code",
        "colab": {}
      },
      "source": [
        "#Splitting the data into TRAIN and TEST...\n",
        "X_train, X_test, Y_train, Y_test= train_test_split(X, Y, test_size=0.2, random_state=22, stratify=Y)"
      ],
      "execution_count": 0,
      "outputs": []
    },
    {
      "cell_type": "code",
      "metadata": {
        "id": "W_rvqaz1WhyV",
        "colab_type": "code",
        "colab": {}
      },
      "source": [
        "lr= LogisticRegression(class_weight='balanced')"
      ],
      "execution_count": 0,
      "outputs": []
    },
    {
      "cell_type": "code",
      "metadata": {
        "id": "b45oQCbCWm7O",
        "colab_type": "code",
        "outputId": "644311b8-5ed9-414c-e5ed-7c56cfd2fdff",
        "colab": {
          "base_uri": "https://localhost:8080/",
          "height": 108
        }
      },
      "source": [
        "lr.fit(X_train, Y_train)"
      ],
      "execution_count": 0,
      "outputs": [
        {
          "output_type": "execute_result",
          "data": {
            "text/plain": [
              "LogisticRegression(C=1.0, class_weight='balanced', dual=False,\n",
              "                   fit_intercept=True, intercept_scaling=1, l1_ratio=None,\n",
              "                   max_iter=100, multi_class='auto', n_jobs=None, penalty='l2',\n",
              "                   random_state=None, solver='lbfgs', tol=0.0001, verbose=0,\n",
              "                   warm_start=False)"
            ]
          },
          "metadata": {
            "tags": []
          },
          "execution_count": 30
        }
      ]
    },
    {
      "cell_type": "code",
      "metadata": {
        "id": "su-ExMLyWopT",
        "colab_type": "code",
        "colab": {}
      },
      "source": [
        "predicted= lr.predict(X_test)"
      ],
      "execution_count": 0,
      "outputs": []
    },
    {
      "cell_type": "code",
      "metadata": {
        "id": "owEX8ZNPWzaE",
        "colab_type": "code",
        "outputId": "da900049-d3b4-4d53-d9a0-90f1fabb7bd5",
        "colab": {
          "base_uri": "https://localhost:8080/",
          "height": 35
        }
      },
      "source": [
        "roc_auc_score(Y_test, predicted), accuracy_score(Y_test, predicted)"
      ],
      "execution_count": 0,
      "outputs": [
        {
          "output_type": "execute_result",
          "data": {
            "text/plain": [
              "(0.6404513220413637, 0.6368421052631579)"
            ]
          },
          "metadata": {
            "tags": []
          },
          "execution_count": 32
        }
      ]
    },
    {
      "cell_type": "markdown",
      "metadata": {
        "id": "hBtKYUu_XG--",
        "colab_type": "text"
      },
      "source": [
        "We see that by using all the available features we get a ROC_AUC_SCORE of 64%.\n",
        "\n",
        "Now lets look at a Feature Importance plot highlighting the top 10 important features to predict our target variable.\n"
      ]
    },
    {
      "cell_type": "code",
      "metadata": {
        "id": "77bfI9JdXBtg",
        "colab_type": "code",
        "colab": {}
      },
      "source": [
        "et= ExtraTreesClassifier(class_weight='balanced')"
      ],
      "execution_count": 0,
      "outputs": []
    },
    {
      "cell_type": "code",
      "metadata": {
        "id": "CpKQks8qXPCZ",
        "colab_type": "code",
        "outputId": "7a9ed275-acb2-4836-c696-2972bc2ba82a",
        "colab": {
          "base_uri": "https://localhost:8080/",
          "height": 162
        }
      },
      "source": [
        "et.fit(X_train, Y_train)"
      ],
      "execution_count": 0,
      "outputs": [
        {
          "output_type": "execute_result",
          "data": {
            "text/plain": [
              "ExtraTreesClassifier(bootstrap=False, ccp_alpha=0.0, class_weight='balanced',\n",
              "                     criterion='gini', max_depth=None, max_features='auto',\n",
              "                     max_leaf_nodes=None, max_samples=None,\n",
              "                     min_impurity_decrease=0.0, min_impurity_split=None,\n",
              "                     min_samples_leaf=1, min_samples_split=2,\n",
              "                     min_weight_fraction_leaf=0.0, n_estimators=100,\n",
              "                     n_jobs=None, oob_score=False, random_state=None, verbose=0,\n",
              "                     warm_start=False)"
            ]
          },
          "metadata": {
            "tags": []
          },
          "execution_count": 34
        }
      ]
    },
    {
      "cell_type": "code",
      "metadata": {
        "id": "rljkI56BXSN1",
        "colab_type": "code",
        "outputId": "dc4bda4f-bd0a-4449-ea0c-41ffb0f3ed74",
        "colab": {
          "base_uri": "https://localhost:8080/",
          "height": 374
        }
      },
      "source": [
        "feat_importance= pd.Series(et.feature_importances_, index= X_train.columns)\n",
        "feat_importance.nlargest(10).plot(kind='barh', figsize=(15,6))\n",
        "plt.show()"
      ],
      "execution_count": 0,
      "outputs": [
        {
          "output_type": "display_data",
          "data": {
            "image/png": "[encoded data removed]",
            "text/plain": [
              "<Figure size 1080x432 with 1 Axes>"
            ]
          },
          "metadata": {
            "tags": []
          }
        }
      ]
    },
    {
      "cell_type": "markdown",
      "metadata": {
        "id": "OcP2rDnXY64Q",
        "colab_type": "text"
      },
      "source": [
        "**Now lets use Recursive Feature Elimination method to eliminate the features which doesn't contribute much in predicting our Target variable.**"
      ]
    },
    {
      "cell_type": "code",
      "metadata": {
        "id": "6UYZe1YJXsLu",
        "colab_type": "code",
        "colab": {}
      },
      "source": [
        "rfe= RFE(lr, 10)"
      ],
      "execution_count": 0,
      "outputs": []
    },
    {
      "cell_type": "code",
      "metadata": {
        "id": "diCh44zIZeAR",
        "colab_type": "code",
        "colab": {}
      },
      "source": [
        "fit= rfe.fit(X_train, Y_train)"
      ],
      "execution_count": 0,
      "outputs": []
    },
    {
      "cell_type": "code",
      "metadata": {
        "id": "dTgKW2DxZhkZ",
        "colab_type": "code",
        "outputId": "ec9c87d1-a16d-4c66-c97c-c356ec32d6f3",
        "colab": {
          "base_uri": "https://localhost:8080/",
          "height": 53
        }
      },
      "source": [
        "print('Num features: %d' %fit.n_features_)\n",
        "print('Feature Ranking: %s' %fit.ranking_)"
      ],
      "execution_count": 0,
      "outputs": [
        {
          "output_type": "stream",
          "text": [
            "Num features: 10\n",
            "Feature Ranking: [11  7 12 10  1  5  1  6  9  1  1  1  1  1  1  8  2  3  1  1  4]\n"
          ],
          "name": "stdout"
        }
      ]
    },
    {
      "cell_type": "markdown",
      "metadata": {
        "id": "2xU4fgf_aD20",
        "colab_type": "text"
      },
      "source": [
        "Here we took Linear Regression model with 10 features and RFE gave feature ranking as above, but the selection of number 10 was random.\n",
        "\n",
        "Now we need to find the optimum number of features, for which the accuracy is highest. We do that by using loop starting with 1 feature and going up to 21.\n",
        "\n",
        "We then take the one for which the accuracy is highest.\n"
      ]
    },
    {
      "cell_type": "code",
      "metadata": {
        "id": "ujNgVdapZyXr",
        "colab_type": "code",
        "outputId": "773d0bd4-1028-4b4f-ef46-7b0c56641521",
        "colab": {
          "base_uri": "https://localhost:8080/",
          "height": 53
        }
      },
      "source": [
        "#No. of features\n",
        "nof_list= np.arange(1,21)\n",
        "high_score= 0\n",
        "#Variable to store the optimum features.\n",
        "nof=10\n",
        "score_list= []\n",
        "for n in range(len(nof_list)):\n",
        "  model= LogisticRegression(class_weight='balanced')\n",
        "  rfe= RFE(model, nof_list[n])\n",
        "  X_train_rfe= rfe.fit_transform(X_train, Y_train)\n",
        "  X_test_rfe= rfe.transform(X_test)\n",
        "  model.fit(X_train_rfe, Y_train)\n",
        "  score= model.score(X_test_rfe,Y_test)\n",
        "  score_list.append(score)\n",
        "  if score>high_score:\n",
        "    high_score= score\n",
        "    nof= nof_list[n]\n",
        "\n",
        "print('Optimum No. of features: %d' %nof)\n",
        "print('Sort with %d features: %f' %(nof, high_score))"
      ],
      "execution_count": 0,
      "outputs": [
        {
          "output_type": "stream",
          "text": [
            "Optimum No. of features: 9\n",
            "Sort with 9 features: 0.647368\n"
          ],
          "name": "stdout"
        }
      ]
    },
    {
      "cell_type": "markdown",
      "metadata": {
        "id": "DiKgv76Udcac",
        "colab_type": "text"
      },
      "source": [
        "**We now feed 9 as the number of features to RFE and get the final set of features given by RFE method, as follows:**"
      ]
    },
    {
      "cell_type": "code",
      "metadata": {
        "id": "S6Xk6IkObl_J",
        "colab_type": "code",
        "outputId": "b9649585-aa69-4cf5-ae2b-1a6afcea5fd7",
        "colab": {
          "base_uri": "https://localhost:8080/",
          "height": 108
        }
      },
      "source": [
        "cols= list(X.columns)\n",
        "model= LogisticRegression(class_weight='balanced')\n",
        "\n",
        "#Initializing RFE model..\n",
        "rfe= RFE(model,9)\n",
        "\n",
        "#Transforming data using RFE\n",
        "X_rfe= rfe.fit_transform(X_train, Y_train)\n",
        "\n",
        "#Fitting the data to the model...\n",
        "model.fit(X_rfe, Y_train)\n",
        "temp= pd.Series(rfe.support_, index=cols)\n",
        "selected_features_rfe= temp[temp==True].index\n",
        "print(selected_features_rfe)"
      ],
      "execution_count": 0,
      "outputs": [
        {
          "output_type": "stream",
          "text": [
            "Index(['trainee_engagement_rating', 'program_type_T', 'program_type_Z',\n",
            "       'program_type_X', 'test_type_offline', 'difficulty_level_easy',\n",
            "       'difficulty_level_intermediate', 'difficulty_level_hard',\n",
            "       'education_Masters'],\n",
            "      dtype='object')\n"
          ],
          "name": "stdout"
        }
      ]
    },
    {
      "cell_type": "markdown",
      "metadata": {
        "id": "Jyoq66HXfXQE",
        "colab_type": "text"
      },
      "source": [
        "**Hence, we conclude that the above 9 features would be used in our Model builing process.**"
      ]
    },
    {
      "cell_type": "markdown",
      "metadata": {
        "id": "vDDUMaFmfgX5",
        "colab_type": "text"
      },
      "source": [
        "## **Model Building**"
      ]
    },
    {
      "cell_type": "markdown",
      "metadata": {
        "id": "RV-1BiwOfmMW",
        "colab_type": "text"
      },
      "source": [
        "### ***Using Logistic Regression***"
      ]
    },
    {
      "cell_type": "code",
      "metadata": {
        "id": "61ryWFIFeN1s",
        "colab_type": "code",
        "colab": {}
      },
      "source": [
        "X_rfe= train_file.drop(['is_pass'], axis=1)\n",
        "Y_rfe= train_file['is_pass']"
      ],
      "execution_count": 0,
      "outputs": []
    },
    {
      "cell_type": "code",
      "metadata": {
        "id": "spox1K5YjmEy",
        "colab_type": "code",
        "colab": {}
      },
      "source": [
        "#Splitting the data into TRAIN and TEST...\n",
        "X_train_rfe, X_test_rfe, Y_train_rfe, Y_test_rfe= train_test_split(X_rfe, Y_rfe, test_size=0.2, random_state=11, stratify=Y_rfe)"
      ],
      "execution_count": 0,
      "outputs": []
    },
    {
      "cell_type": "code",
      "metadata": {
        "id": "7ACabyGjjmCL",
        "colab_type": "code",
        "colab": {}
      },
      "source": [
        "lr= LogisticRegression(class_weight='balanced')"
      ],
      "execution_count": 0,
      "outputs": []
    },
    {
      "cell_type": "code",
      "metadata": {
        "id": "LkjCgNCtf6lU",
        "colab_type": "code",
        "outputId": "b782df33-79eb-4bb0-f095-14079939bee4",
        "colab": {
          "base_uri": "https://localhost:8080/",
          "height": 108
        }
      },
      "source": [
        "lr.fit(X_train_rfe, Y_train_rfe)"
      ],
      "execution_count": 0,
      "outputs": [
        {
          "output_type": "execute_result",
          "data": {
            "text/plain": [
              "LogisticRegression(C=1.0, class_weight='balanced', dual=False,\n",
              "                   fit_intercept=True, intercept_scaling=1, l1_ratio=None,\n",
              "                   max_iter=100, multi_class='auto', n_jobs=None, penalty='l2',\n",
              "                   random_state=None, solver='lbfgs', tol=0.0001, verbose=0,\n",
              "                   warm_start=False)"
            ]
          },
          "metadata": {
            "tags": []
          },
          "execution_count": 42
        }
      ]
    },
    {
      "cell_type": "code",
      "metadata": {
        "id": "4gDvER_6gDwD",
        "colab_type": "code",
        "colab": {}
      },
      "source": [
        "predicted_rfe= lr.predict(X_test_rfe)"
      ],
      "execution_count": 0,
      "outputs": []
    },
    {
      "cell_type": "code",
      "metadata": {
        "id": "6_0XE_rfkN8t",
        "colab_type": "code",
        "outputId": "8849e74b-834f-4892-f28b-d03c089ffb70",
        "colab": {
          "base_uri": "https://localhost:8080/",
          "height": 35
        }
      },
      "source": [
        "roc_auc_score(Y_test_rfe, predicted_rfe), accuracy_score(Y_test_rfe, predicted_rfe), f1_score(Y_test_rfe, predicted_rfe)"
      ],
      "execution_count": 0,
      "outputs": [
        {
          "output_type": "execute_result",
          "data": {
            "text/plain": [
              "(0.641439028233689, 0.636637047163363, 0.7065901313610774)"
            ]
          },
          "metadata": {
            "tags": []
          },
          "execution_count": 56
        }
      ]
    },
    {
      "cell_type": "markdown",
      "metadata": {
        "id": "e7eJooJ2knpp",
        "colab_type": "text"
      },
      "source": [
        "### **Using Random Forest**"
      ]
    },
    {
      "cell_type": "code",
      "metadata": {
        "id": "qZTINZ3vkmyV",
        "colab_type": "code",
        "colab": {}
      },
      "source": [
        "#Importing required packages..\n",
        "from sklearn.ensemble import RandomForestClassifier\n",
        "from sklearn.model_selection import RandomizedSearchCV"
      ],
      "execution_count": 0,
      "outputs": []
    },
    {
      "cell_type": "code",
      "metadata": {
        "id": "zUNG9uObkXru",
        "colab_type": "code",
        "colab": {}
      },
      "source": [
        "rf= RandomForestClassifier(class_weight='balanced', verbose=1, n_jobs=-1, random_state=11)"
      ],
      "execution_count": 0,
      "outputs": []
    },
    {
      "cell_type": "code",
      "metadata": {
        "id": "JqZ1GxIulALC",
        "colab_type": "code",
        "colab": {}
      },
      "source": [
        "params= {\n",
        "    'n_estimators': [800,1000,1300],\n",
        "    'bootstrap': [True, False],\n",
        "    'max_depth': [None,2,5],\n",
        "    'min_samples_split': [15,20,25,30],\n",
        "    'min_samples_leaf': [5,8,10,12],\n",
        "    'max_features': [9,15,18,21]\n",
        "}"
      ],
      "execution_count": 0,
      "outputs": []
    },
    {
      "cell_type": "code",
      "metadata": {
        "id": "w2sNAqoBmwUT",
        "colab_type": "code",
        "colab": {}
      },
      "source": [
        "random_search= RandomizedSearchCV(rf, cv=5, param_distributions= params, n_iter=10, scoring= 'roc_auc')"
      ],
      "execution_count": 0,
      "outputs": []
    },
    {
      "cell_type": "code",
      "metadata": {
        "id": "OBj4Zxa1m650",
        "colab_type": "code",
        "colab": {}
      },
      "source": [
        "random_search.fit(X_train_rfe, Y_train_rfe)"
      ],
      "execution_count": 0,
      "outputs": []
    },
    {
      "cell_type": "code",
      "metadata": {
        "id": "9Y_Hk65Wm_ci",
        "colab_type": "code",
        "colab": {}
      },
      "source": [
        "rf_best= random_search.best_estimator_"
      ],
      "execution_count": 0,
      "outputs": []
    },
    {
      "cell_type": "code",
      "metadata": {
        "id": "PWRU9AqgrXoo",
        "colab_type": "code",
        "colab": {}
      },
      "source": [
        "#Using the report function given below we can see the cv performance of top few models \n",
        "def report(results, n_top=3):\n",
        "    for i in range(1, n_top + 1):\n",
        "        candidates = np.flatnonzero(results['rank_test_score'] == i)\n",
        "        for candidate in candidates:\n",
        "            print(\"Model with rank: {0}\".format(i))\n",
        "            print(\"Mean validation score: {0:.3f} (std: {1:.3f})\".format(\n",
        "                  results['mean_test_score'][candidate],\n",
        "                  results['std_test_score'][candidate]))\n",
        "            print(\"Parameters: {0}\".format(results['params'][candidate]))\n",
        "            print(\"\")"
      ],
      "execution_count": 0,
      "outputs": []
    },
    {
      "cell_type": "code",
      "metadata": {
        "id": "0ENUtr5RrZ4o",
        "colab_type": "code",
        "outputId": "45bd11e2-497c-440e-b5bf-9935ee57b957",
        "colab": {
          "base_uri": "https://localhost:8080/",
          "height": 235
        }
      },
      "source": [
        "report(random_search.cv_results_, 3)"
      ],
      "execution_count": 0,
      "outputs": [
        {
          "output_type": "stream",
          "text": [
            "Model with rank: 1\n",
            "Mean validation score: 0.729 (std: 0.005)\n",
            "Parameters: {'n_estimators': 1000, 'min_samples_split': 25, 'min_samples_leaf': 8, 'max_features': 15, 'max_depth': None, 'bootstrap': True}\n",
            "\n",
            "Model with rank: 2\n",
            "Mean validation score: 0.729 (std: 0.005)\n",
            "Parameters: {'n_estimators': 1000, 'min_samples_split': 25, 'min_samples_leaf': 12, 'max_features': 9, 'max_depth': None, 'bootstrap': False}\n",
            "\n",
            "Model with rank: 3\n",
            "Mean validation score: 0.728 (std: 0.005)\n",
            "Parameters: {'n_estimators': 1300, 'min_samples_split': 30, 'min_samples_leaf': 10, 'max_features': 18, 'max_depth': None, 'bootstrap': True}\n",
            "\n"
          ],
          "name": "stdout"
        }
      ]
    },
    {
      "cell_type": "markdown",
      "metadata": {
        "id": "VcXAdtQZzBW6",
        "colab_type": "text"
      },
      "source": [
        "**From above we can see that Model Rank-1 has best parameters, hence we will take those parameters into consideration.**"
      ]
    },
    {
      "cell_type": "code",
      "metadata": {
        "id": "9xY8G-BRrdPG",
        "colab_type": "code",
        "colab": {}
      },
      "source": [
        "best_parameters= {'n_estimators': 1000, 'min_samples_split': 25, 'min_samples_leaf': 8, 'max_features': 15, 'max_depth': None, 'bootstrap': True}"
      ],
      "execution_count": 0,
      "outputs": []
    },
    {
      "cell_type": "code",
      "metadata": {
        "id": "Q2f0EDwPzLsJ",
        "colab_type": "code",
        "colab": {}
      },
      "source": [
        "rf_best= RandomForestClassifier(n_estimators=1000, min_samples_split=25, min_samples_leaf=8, max_features=15, max_depth= None, bootstrap=False, \n",
        "                                verbose=1, n_jobs=-1, random_state=14, class_weight='balanced')"
      ],
      "execution_count": 0,
      "outputs": []
    },
    {
      "cell_type": "code",
      "metadata": {
        "id": "Ras0D7xJ-qz0",
        "colab_type": "code",
        "outputId": "edd3cc58-bdb6-489b-ab4e-e04c0dc80107",
        "colab": {
          "base_uri": "https://localhost:8080/",
          "height": 271
        }
      },
      "source": [
        "rf_best.fit(X_train_rfe, Y_train_rfe)"
      ],
      "execution_count": 0,
      "outputs": [
        {
          "output_type": "stream",
          "text": [
            "[Parallel(n_jobs=-1)]: Using backend ThreadingBackend with 2 concurrent workers.\n",
            "[Parallel(n_jobs=-1)]: Done  46 tasks      | elapsed:    4.6s\n",
            "[Parallel(n_jobs=-1)]: Done 196 tasks      | elapsed:   19.4s\n",
            "[Parallel(n_jobs=-1)]: Done 446 tasks      | elapsed:   43.8s\n",
            "[Parallel(n_jobs=-1)]: Done 796 tasks      | elapsed:  1.3min\n",
            "[Parallel(n_jobs=-1)]: Done 1000 out of 1000 | elapsed:  1.6min finished\n"
          ],
          "name": "stderr"
        },
        {
          "output_type": "execute_result",
          "data": {
            "text/plain": [
              "RandomForestClassifier(bootstrap=False, ccp_alpha=0.0, class_weight='balanced',\n",
              "                       criterion='gini', max_depth=None, max_features=15,\n",
              "                       max_leaf_nodes=None, max_samples=None,\n",
              "                       min_impurity_decrease=0.0, min_impurity_split=None,\n",
              "                       min_samples_leaf=8, min_samples_split=25,\n",
              "                       min_weight_fraction_leaf=0.0, n_estimators=1000,\n",
              "                       n_jobs=-1, oob_score=False, random_state=14, verbose=1,\n",
              "                       warm_start=False)"
            ]
          },
          "metadata": {
            "tags": []
          },
          "execution_count": 52
        }
      ]
    },
    {
      "cell_type": "code",
      "metadata": {
        "id": "RkySeA06-u54",
        "colab_type": "code",
        "outputId": "6fda5b0b-a6aa-4d7d-dc2b-e90702c207b6",
        "colab": {
          "base_uri": "https://localhost:8080/",
          "height": 126
        }
      },
      "source": [
        "predicted_rf= rf_best.predict(X_test_rfe)"
      ],
      "execution_count": 0,
      "outputs": [
        {
          "output_type": "stream",
          "text": [
            "[Parallel(n_jobs=2)]: Using backend ThreadingBackend with 2 concurrent workers.\n",
            "[Parallel(n_jobs=2)]: Done  46 tasks      | elapsed:    0.1s\n",
            "[Parallel(n_jobs=2)]: Done 196 tasks      | elapsed:    0.5s\n",
            "[Parallel(n_jobs=2)]: Done 446 tasks      | elapsed:    1.2s\n",
            "[Parallel(n_jobs=2)]: Done 796 tasks      | elapsed:    2.1s\n",
            "[Parallel(n_jobs=2)]: Done 1000 out of 1000 | elapsed:    2.6s finished\n"
          ],
          "name": "stderr"
        }
      ]
    },
    {
      "cell_type": "code",
      "metadata": {
        "id": "w8vR3EJe-2jA",
        "colab_type": "code",
        "outputId": "d1c2a6b7-18f3-491d-8861-919237787d9d",
        "colab": {
          "base_uri": "https://localhost:8080/",
          "height": 35
        }
      },
      "source": [
        "roc_auc_score(Y_test_rfe, predicted_rf), accuracy_score(Y_test_rfe, predicted_rf), f1_score(Y_test_rfe, predicted_rf)"
      ],
      "execution_count": 0,
      "outputs": [
        {
          "output_type": "execute_result",
          "data": {
            "text/plain": [
              "(0.6727090898438975, 0.680041011619959, 0.7503599808010238)"
            ]
          },
          "metadata": {
            "tags": []
          },
          "execution_count": 55
        }
      ]
    },
    {
      "cell_type": "markdown",
      "metadata": {
        "id": "H1J0q5dK_RZK",
        "colab_type": "text"
      },
      "source": [
        "### **Using XGBoost**"
      ]
    },
    {
      "cell_type": "code",
      "metadata": {
        "id": "4xYRCPhI-_P9",
        "colab_type": "code",
        "colab": {}
      },
      "source": [
        "#Importing required packages...\n",
        "import xgboost as xgb"
      ],
      "execution_count": 0,
      "outputs": []
    },
    {
      "cell_type": "code",
      "metadata": {
        "id": "IcoLmu8J_cMF",
        "colab_type": "code",
        "colab": {}
      },
      "source": [
        "xgbst= xgb.XGBClassifier(objective='binary:logistic')"
      ],
      "execution_count": 0,
      "outputs": []
    },
    {
      "cell_type": "code",
      "metadata": {
        "id": "u2RT4iW9ADZt",
        "colab_type": "code",
        "colab": {}
      },
      "source": [
        "xgb_params= {\n",
        "    'learning_rate':[0.5,0.7,0.9],\n",
        "    'gamma': [i/10.0 for i in range(0,5)],\n",
        "    'max_depth': [4,5,8,10],\n",
        "    'min_child_weight': [1,2,5],\n",
        "    'max_delta_step': [0,1,2,5],\n",
        "    'sub_sample': [i/10.0 for i in range(5,10)],\n",
        "    'col_sample_bytree': [i/10.0 for i in range(5,10)],\n",
        "    'col_sample_bylevel': [i/10.0 for i in range(5,10)],\n",
        "    'reg_lambda': [1e-5,1e-2, 0.1, 1, 100],\n",
        "    'reg_alpha': [1e-5,1e-2, 0.1, 1, 100],\n",
        "    'scale_pos_weight': [2],\n",
        "    'n_estimators': [200,300,500,800]\n",
        "}"
      ],
      "execution_count": 0,
      "outputs": []
    },
    {
      "cell_type": "code",
      "metadata": {
        "id": "xMPlKzUx_lmC",
        "colab_type": "code",
        "colab": {}
      },
      "source": [
        "random_search_xgb= RandomizedSearchCV(xgbst, verbose=1, n_jobs=-1, cv=5, n_iter= 10, scoring='roc_auc', param_distributions=xgb_params)"
      ],
      "execution_count": 0,
      "outputs": []
    },
    {
      "cell_type": "code",
      "metadata": {
        "id": "ybokLbkHBC2o",
        "colab_type": "code",
        "colab": {}
      },
      "source": [
        "random_search_xgb.fit(X_train_rfe, Y_train_rfe)"
      ],
      "execution_count": 0,
      "outputs": []
    },
    {
      "cell_type": "code",
      "metadata": {
        "id": "dWP31Di2cFyX",
        "colab_type": "code",
        "colab": {}
      },
      "source": [
        "xgb_best= random_search_xgb.best_estimator_"
      ],
      "execution_count": 0,
      "outputs": []
    },
    {
      "cell_type": "code",
      "metadata": {
        "id": "aeHOW1R-BXCW",
        "colab_type": "code",
        "outputId": "ccc94a61-370e-4cf4-9bde-c981e68d6222",
        "colab": {
          "base_uri": "https://localhost:8080/",
          "height": 255
        }
      },
      "source": [
        "report(random_search_xgb.cv_results_, 3)"
      ],
      "execution_count": 0,
      "outputs": [
        {
          "output_type": "stream",
          "text": [
            "Model with rank: 1\n",
            "Mean validation score: 0.733 (std: 0.005)\n",
            "Parameters: {'sub_sample': 0.7, 'scale_pos_weight': 2, 'reg_lambda': 100, 'reg_alpha': 0.1, 'n_estimators': 300, 'min_child_weight': 1, 'max_depth': 8, 'max_delta_step': 2, 'learning_rate': 0.7, 'gamma': 0.0, 'col_sample_bytree': 0.9, 'col_sample_bylevel': 0.8}\n",
            "\n",
            "Model with rank: 2\n",
            "Mean validation score: 0.723 (std: 0.002)\n",
            "Parameters: {'sub_sample': 0.6, 'scale_pos_weight': 2, 'reg_lambda': 0.1, 'reg_alpha': 0.01, 'n_estimators': 500, 'min_child_weight': 5, 'max_depth': 5, 'max_delta_step': 1, 'learning_rate': 0.7, 'gamma': 0.4, 'col_sample_bytree': 0.8, 'col_sample_bylevel': 0.8}\n",
            "\n",
            "Model with rank: 3\n",
            "Mean validation score: 0.722 (std: 0.004)\n",
            "Parameters: {'sub_sample': 0.5, 'scale_pos_weight': 2, 'reg_lambda': 1, 'reg_alpha': 0.1, 'n_estimators': 800, 'min_child_weight': 5, 'max_depth': 5, 'max_delta_step': 1, 'learning_rate': 0.9, 'gamma': 0.2, 'col_sample_bytree': 0.5, 'col_sample_bylevel': 0.9}\n",
            "\n"
          ],
          "name": "stdout"
        }
      ]
    },
    {
      "cell_type": "markdown",
      "metadata": {
        "id": "zvb_j_qzcgpq",
        "colab_type": "text"
      },
      "source": [
        "**From above we can see that Model Rank-1 has best parameters, hence we will take those parameters into consideration.**"
      ]
    },
    {
      "cell_type": "code",
      "metadata": {
        "id": "8xkAxyfWa65C",
        "colab_type": "code",
        "colab": {}
      },
      "source": [
        "xgb_best_parameters= {'sub_sample': 0.7, 'scale_pos_weight': 2, 'reg_lambda': 100, 'reg_alpha': 0.1, 'n_estimators': 300, 'min_child_weight': 1,\n",
        "                      'max_depth': 8, 'max_delta_step': 2, 'learning_rate': 0.7, 'gamma': 0.0, 'col_sample_bytree': 0.9, 'col_sample_bylevel': 0.8}"
      ],
      "execution_count": 0,
      "outputs": []
    },
    {
      "cell_type": "code",
      "metadata": {
        "id": "QnBzi1BPbEu_",
        "colab_type": "code",
        "colab": {}
      },
      "source": [
        "xgb_best= xgb.XGBClassifier(verbose=1, n_jobs=-1, scoring='roc_auc', subsample=0.7, scale_pos_weight=2, reg_lambda=100, reg_alpha=0.1, n_estimators=300,  \n",
        "                            min_child_weight=1, max_depth=8, max_delta_step=2, learning_rate=0.7, gamma=0.0,colsample_bytree=0.9, col_sample_bylevel=0.8)"
      ],
      "execution_count": 0,
      "outputs": []
    },
    {
      "cell_type": "code",
      "metadata": {
        "id": "_hZac3GhbExR",
        "colab_type": "code",
        "outputId": "d230a4dd-4e1d-4337-fa2d-6585287dbae7",
        "colab": {
          "base_uri": "https://localhost:8080/",
          "height": 162
        }
      },
      "source": [
        "xgb_best.fit(X_train_rfe, Y_train_rfe)  "
      ],
      "execution_count": 0,
      "outputs": [
        {
          "output_type": "execute_result",
          "data": {
            "text/plain": [
              "XGBClassifier(base_score=0.5, booster='gbtree', col_sample_bylevel=0.8,\n",
              "              colsample_bylevel=1, colsample_bynode=1, colsample_bytree=0.9,\n",
              "              gamma=0.0, learning_rate=0.7, max_delta_step=2, max_depth=8,\n",
              "              min_child_weight=1, missing=None, n_estimators=300, n_jobs=-1,\n",
              "              nthread=None, objective='binary:logistic', random_state=0,\n",
              "              reg_alpha=0.1, reg_lambda=100, scale_pos_weight=2,\n",
              "              scoring='roc_auc', seed=None, silent=None, subsample=0.7,\n",
              "              verbose=1, verbosity=1)"
            ]
          },
          "metadata": {
            "tags": []
          },
          "execution_count": 63
        }
      ]
    },
    {
      "cell_type": "code",
      "metadata": {
        "id": "CbDmYgmGbEzk",
        "colab_type": "code",
        "outputId": "5844b411-ba78-498b-91d9-c002838d6d7e",
        "colab": {
          "base_uri": "https://localhost:8080/",
          "height": 35
        }
      },
      "source": [
        "predicted_xgb= xgb_best.predict(X_test_rfe)\n",
        "predicted_xgb"
      ],
      "execution_count": 0,
      "outputs": [
        {
          "output_type": "execute_result",
          "data": {
            "text/plain": [
              "array([1, 1, 1, ..., 1, 0, 1])"
            ]
          },
          "metadata": {
            "tags": []
          },
          "execution_count": 64
        }
      ]
    },
    {
      "cell_type": "code",
      "metadata": {
        "id": "3OOUXunWbE1s",
        "colab_type": "code",
        "outputId": "8bfa70a1-a8de-4c5b-d1e4-f720f508d7b8",
        "colab": {
          "base_uri": "https://localhost:8080/",
          "height": 35
        }
      },
      "source": [
        "roc_auc_score(Y_test_rfe, predicted_xgb), accuracy_score(Y_test_rfe, predicted_xgb), f1_score(Y_test_rfe, predicted_xgb)"
      ],
      "execution_count": 0,
      "outputs": [
        {
          "output_type": "execute_result",
          "data": {
            "text/plain": [
              "(0.5840164574465344, 0.726930963773069, 0.8286804751490201)"
            ]
          },
          "metadata": {
            "tags": []
          },
          "execution_count": 65
        }
      ]
    },
    {
      "cell_type": "markdown",
      "metadata": {
        "id": "Asg5i8iflQ3C",
        "colab_type": "text"
      },
      "source": [
        "**Finding cut-off**"
      ]
    },
    {
      "cell_type": "code",
      "metadata": {
        "id": "06WrLlzqkwmJ",
        "colab_type": "code",
        "outputId": "e4332a00-7bba-48ee-8e39-ca27e2197eb1",
        "colab": {
          "base_uri": "https://localhost:8080/",
          "height": 181
        }
      },
      "source": [
        "cutoffs= np.linspace(0.01,0.99,99)\n",
        "cutoffs"
      ],
      "execution_count": 0,
      "outputs": [
        {
          "output_type": "execute_result",
          "data": {
            "text/plain": [
              "array([0.01, 0.02, 0.03, 0.04, 0.05, 0.06, 0.07, 0.08, 0.09, 0.1 , 0.11,\n",
              "       0.12, 0.13, 0.14, 0.15, 0.16, 0.17, 0.18, 0.19, 0.2 , 0.21, 0.22,\n",
              "       0.23, 0.24, 0.25, 0.26, 0.27, 0.28, 0.29, 0.3 , 0.31, 0.32, 0.33,\n",
              "       0.34, 0.35, 0.36, 0.37, 0.38, 0.39, 0.4 , 0.41, 0.42, 0.43, 0.44,\n",
              "       0.45, 0.46, 0.47, 0.48, 0.49, 0.5 , 0.51, 0.52, 0.53, 0.54, 0.55,\n",
              "       0.56, 0.57, 0.58, 0.59, 0.6 , 0.61, 0.62, 0.63, 0.64, 0.65, 0.66,\n",
              "       0.67, 0.68, 0.69, 0.7 , 0.71, 0.72, 0.73, 0.74, 0.75, 0.76, 0.77,\n",
              "       0.78, 0.79, 0.8 , 0.81, 0.82, 0.83, 0.84, 0.85, 0.86, 0.87, 0.88,\n",
              "       0.89, 0.9 , 0.91, 0.92, 0.93, 0.94, 0.95, 0.96, 0.97, 0.98, 0.99])"
            ]
          },
          "metadata": {
            "tags": []
          },
          "execution_count": 66
        }
      ]
    },
    {
      "cell_type": "code",
      "metadata": {
        "id": "bLVaeqjulaDg",
        "colab_type": "code",
        "colab": {}
      },
      "source": [
        "train_score= xgb_best.predict_proba(X_train_rfe)[:,1]\n",
        "real= Y_train_rfe"
      ],
      "execution_count": 0,
      "outputs": []
    },
    {
      "cell_type": "code",
      "metadata": {
        "id": "ouHFbp7bl2_w",
        "colab_type": "code",
        "colab": {}
      },
      "source": [
        "KS_all=[]\n",
        "\n",
        "for cutoff in cutoffs:\n",
        "    predicted=(train_score>cutoff).astype(int)\n",
        "    \n",
        "    TP=((predicted==1) & (real==1)).sum()\n",
        "    TN=((predicted==0) & (real==0)).sum()\n",
        "    FP=((predicted==1) & (real==0)).sum()\n",
        "    FN=((predicted==0) & (real==1)).sum()\n",
        "    \n",
        "    P=TP+FN\n",
        "    N=TN+FP\n",
        "    \n",
        "    KS=(TP/P)-(FP/N)\n",
        "    \n",
        "    \n",
        "    KS_all.append(KS)\n",
        "    \n",
        "    \n",
        "# try out what cutoffs you get when you use F_beta scores with different values of betas [0.5 , 5]\n",
        "# beta < 1 : you will get cutoff , which is high ( favours precision)\n",
        "# beta > 1 : you will get cutoff , which is low (favours precision )"
      ],
      "execution_count": 0,
      "outputs": []
    },
    {
      "cell_type": "code",
      "metadata": {
        "id": "N06fm6urnRw1",
        "colab_type": "code",
        "colab": {}
      },
      "source": [
        "mycutoff= cutoffs[KS_all==max(KS_all)][0]\n",
        "mycutoff"
      ],
      "execution_count": 0,
      "outputs": []
    },
    {
      "cell_type": "code",
      "metadata": {
        "id": "OD4n7QDpone8",
        "colab_type": "code",
        "colab": {}
      },
      "source": [
        "test_score= xgb_best.predict_proba(X_test_rfe)[:,1]"
      ],
      "execution_count": 0,
      "outputs": []
    },
    {
      "cell_type": "code",
      "metadata": {
        "id": "VTOpW0Isonib",
        "colab_type": "code",
        "colab": {}
      },
      "source": [
        "test_classes= (test_score>mycutoff).astype(int)"
      ],
      "execution_count": 0,
      "outputs": []
    },
    {
      "cell_type": "code",
      "metadata": {
        "id": "vyFZh7LnoZPt",
        "colab_type": "code",
        "outputId": "69183e01-4efc-4d11-b1a7-7f076f6d6935",
        "colab": {
          "base_uri": "https://localhost:8080/",
          "height": 35
        }
      },
      "source": [
        "roc_auc_score(Y_test_rfe, test_classes), accuracy_score(Y_test_rfe, test_classes), f1_score(Y_test_rfe, test_classes)"
      ],
      "execution_count": 0,
      "outputs": [
        {
          "output_type": "execute_result",
          "data": {
            "text/plain": [
              "(0.6812676881860652, 0.6922077922077922, 0.7621864272511224)"
            ]
          },
          "metadata": {
            "tags": []
          },
          "execution_count": 72
        }
      ]
    },
    {
      "cell_type": "markdown",
      "metadata": {
        "id": "whLGoDV0Qfcz",
        "colab_type": "text"
      },
      "source": [
        "### **Lets train the entire TRAIN data and predict the TEST file..**"
      ]
    },
    {
      "cell_type": "code",
      "metadata": {
        "id": "Gd_FDcmQP29O",
        "colab_type": "code",
        "colab": {}
      },
      "source": [
        "X_train_full= train_file.drop(['is_pass'], axis=1)     #Here we have selected the features which we shortlisted earlier in Feature Engineering part.\n",
        "Y_train_full= train_file['is_pass']"
      ],
      "execution_count": 0,
      "outputs": []
    },
    {
      "cell_type": "code",
      "metadata": {
        "id": "OtbqLcNEP3Ak",
        "colab_type": "code",
        "colab": {}
      },
      "source": [
        "X_test_file= test_file"
      ],
      "execution_count": 0,
      "outputs": []
    },
    {
      "cell_type": "code",
      "metadata": {
        "id": "sHte8jB4P3Fi",
        "colab_type": "code",
        "outputId": "b16589b3-2279-477a-af94-66f303e5a4c0",
        "colab": {
          "base_uri": "https://localhost:8080/",
          "height": 35
        }
      },
      "source": [
        "X_train_full.shape, X_test_file.shape"
      ],
      "execution_count": 0,
      "outputs": [
        {
          "output_type": "execute_result",
          "data": {
            "text/plain": [
              "((73147, 21), (31349, 21))"
            ]
          },
          "metadata": {
            "tags": []
          },
          "execution_count": 75
        }
      ]
    },
    {
      "cell_type": "markdown",
      "metadata": {
        "id": "b3ezfPSJRj8T",
        "colab_type": "text"
      },
      "source": [
        "Lets fit the model."
      ]
    },
    {
      "cell_type": "code",
      "metadata": {
        "id": "RGNaDBWyP3Ie",
        "colab_type": "code",
        "outputId": "41e6ffea-c6ac-4edf-dc64-89500c01a439",
        "colab": {
          "base_uri": "https://localhost:8080/",
          "height": 162
        }
      },
      "source": [
        "xgb_best.fit(X_train_full, Y_train_full)"
      ],
      "execution_count": 0,
      "outputs": [
        {
          "output_type": "execute_result",
          "data": {
            "text/plain": [
              "XGBClassifier(base_score=0.5, booster='gbtree', col_sample_bylevel=0.8,\n",
              "              colsample_bylevel=1, colsample_bynode=1, colsample_bytree=0.9,\n",
              "              gamma=0.0, learning_rate=0.7, max_delta_step=2, max_depth=8,\n",
              "              min_child_weight=1, missing=None, n_estimators=300, n_jobs=-1,\n",
              "              nthread=None, objective='binary:logistic', random_state=0,\n",
              "              reg_alpha=0.1, reg_lambda=100, scale_pos_weight=2,\n",
              "              scoring='roc_auc', seed=None, silent=None, subsample=0.7,\n",
              "              verbose=1, verbosity=1)"
            ]
          },
          "metadata": {
            "tags": []
          },
          "execution_count": 76
        }
      ]
    },
    {
      "cell_type": "code",
      "metadata": {
        "id": "L7OMpY-rP3N4",
        "colab_type": "code",
        "colab": {}
      },
      "source": [
        "predicted_test_file= xgb_best.predict_proba(X_test_file)[:,1]"
      ],
      "execution_count": 0,
      "outputs": []
    },
    {
      "cell_type": "code",
      "metadata": {
        "id": "O8-kTkfUP3QN",
        "colab_type": "code",
        "colab": {}
      },
      "source": [
        "predicted_test_file= (predicted_test_file>mycutoff).astype(int)"
      ],
      "execution_count": 0,
      "outputs": []
    },
    {
      "cell_type": "code",
      "metadata": {
        "id": "CMGkJjmC8V51",
        "colab_type": "code",
        "colab": {}
      },
      "source": [
        "prediction_file= pd.read_csv('/content/test.csv')"
      ],
      "execution_count": 0,
      "outputs": []
    },
    {
      "cell_type": "code",
      "metadata": {
        "id": "yOqqKIuNP3VM",
        "colab_type": "code",
        "colab": {}
      },
      "source": [
        "id= prediction_file['id']"
      ],
      "execution_count": 0,
      "outputs": []
    },
    {
      "cell_type": "code",
      "metadata": {
        "id": "-E-TI1skP3XS",
        "colab_type": "code",
        "colab": {}
      },
      "source": [
        "my_solution= pd.DataFrame({'id': id, 'is_pass': predicted_test_file})"
      ],
      "execution_count": 0,
      "outputs": []
    },
    {
      "cell_type": "code",
      "metadata": {
        "id": "oUWizVHZP3iq",
        "colab_type": "code",
        "colab": {}
      },
      "source": [
        "pd.DataFrame(my_solution).to_csv(\"/content/solution_file0.443.csv\")"
      ],
      "execution_count": 0,
      "outputs": []
    },
    {
      "cell_type": "code",
      "metadata": {
        "id": "TJj2YXVVPdv5",
        "colab_type": "code",
        "colab": {}
      },
      "source": [
        ""
      ],
      "execution_count": 0,
      "outputs": []
    }
  ]
}